{
  "nbformat": 4,
  "nbformat_minor": 0,
  "metadata": {
    "colab": {
      "provenance": [],
      "gpuType": "T4"
    },
    "kernelspec": {
      "name": "python3",
      "display_name": "Python 3"
    },
    "language_info": {
      "name": "python"
    },
    "accelerator": "GPU"
  },
  "cells": [
    {
      "cell_type": "code",
      "execution_count": 1,
      "metadata": {
        "id": "S_LpQDB1ClA7"
      },
      "outputs": [],
      "source": [
        "import tensorflow as tf"
      ]
    },
    {
      "cell_type": "code",
      "source": [
        "from keras.api._v2.keras.datasets import cifar100\n",
        "cifar100 = tf.keras.datasets.cifar100\n",
        "\n",
        "(x_train, y_train),(x_test, y_test)= cifar100.load_data()\n",
        "x_train, x_test= x_train/255.0, x_test/255.0"
      ],
      "metadata": {
        "colab": {
          "base_uri": "https://localhost:8080/"
        },
        "id": "5936Q4HSC7zj",
        "outputId": "5f8131e1-e630-4846-ed5b-056e5477e809"
      },
      "execution_count": 2,
      "outputs": [
        {
          "output_type": "stream",
          "name": "stdout",
          "text": [
            "Downloading data from https://www.cs.toronto.edu/~kriz/cifar-100-python.tar.gz\n",
            "169001437/169001437 [==============================] - 13s 0us/step\n"
          ]
        }
      ]
    },
    {
      "cell_type": "code",
      "source": [
        "model = tf.keras.models.Sequential([\n",
        "  tf.keras.layers.Conv2D(128, (3, 3), activation='relu', input_shape=(32, 32, 3)),\n",
        "  tf.keras.layers.Conv2D(40, (5, 5), activation='relu'),\n",
        "  tf.keras.layers.Conv2D(25, (3, 3), activation='relu'),\n",
        "  tf.keras.layers.Conv2D(10, (5, 5), activation='relu'),\n",
        "  tf.keras.layers.MaxPooling2D(),\n",
        "  tf.keras.layers.Conv2D(32, (3, 3), activation='relu'),\n",
        "  tf.keras.layers.Conv2D(32, (3, 3), activation='relu'),\n",
        "  tf.keras.layers.MaxPooling2D(),\n",
        "  tf.keras.layers.Flatten(),\n",
        "\n",
        "  tf.keras.layers.Dense(256, activation='relu'),\n",
        "  tf.keras.layers.Dropout(0.3),\n",
        "  tf.keras.layers.Dense(100, activation='softmax')\n",
        "])"
      ],
      "metadata": {
        "id": "XN9LvYJzDKNs"
      },
      "execution_count": 3,
      "outputs": []
    },
    {
      "cell_type": "code",
      "source": [
        "model.compile(optimizer='adam',\n",
        "              loss='sparse_categorical_crossentropy',\n",
        "              metrics=['accuracy'])\n",
        "\n",
        "model.fit(x_train, y_train, epochs=50)\n",
        "model.evaluate(x_test, y_test)"
      ],
      "metadata": {
        "colab": {
          "base_uri": "https://localhost:8080/"
        },
        "id": "1h91MUTDEsEo",
        "outputId": "00cf35ae-0c58-417b-dbe4-0c2bb22716ff"
      },
      "execution_count": 4,
      "outputs": [
        {
          "output_type": "stream",
          "name": "stdout",
          "text": [
            "Epoch 1/50\n",
            "1563/1563 [==============================] - 25s 8ms/step - loss: 4.1593 - accuracy: 0.0585\n",
            "Epoch 2/50\n",
            "1563/1563 [==============================] - 12s 7ms/step - loss: 3.7701 - accuracy: 0.1163\n",
            "Epoch 3/50\n",
            "1563/1563 [==============================] - 12s 7ms/step - loss: 3.5689 - accuracy: 0.1514\n",
            "Epoch 4/50\n",
            "1563/1563 [==============================] - 12s 7ms/step - loss: 3.4393 - accuracy: 0.1748\n",
            "Epoch 5/50\n",
            "1563/1563 [==============================] - 12s 8ms/step - loss: 3.3434 - accuracy: 0.1922\n",
            "Epoch 6/50\n",
            "1563/1563 [==============================] - 12s 7ms/step - loss: 3.2727 - accuracy: 0.2060\n",
            "Epoch 7/50\n",
            "1563/1563 [==============================] - 12s 7ms/step - loss: 3.2027 - accuracy: 0.2187\n",
            "Epoch 8/50\n",
            "1563/1563 [==============================] - 12s 7ms/step - loss: 3.1499 - accuracy: 0.2284\n",
            "Epoch 9/50\n",
            "1563/1563 [==============================] - 12s 7ms/step - loss: 3.1047 - accuracy: 0.2377\n",
            "Epoch 10/50\n",
            "1563/1563 [==============================] - 12s 7ms/step - loss: 3.0650 - accuracy: 0.2461\n",
            "Epoch 11/50\n",
            "1563/1563 [==============================] - 12s 7ms/step - loss: 3.0296 - accuracy: 0.2517\n",
            "Epoch 12/50\n",
            "1563/1563 [==============================] - 12s 7ms/step - loss: 2.9943 - accuracy: 0.2589\n",
            "Epoch 13/50\n",
            "1563/1563 [==============================] - 12s 7ms/step - loss: 2.9651 - accuracy: 0.2604\n",
            "Epoch 14/50\n",
            "1563/1563 [==============================] - 12s 7ms/step - loss: 2.9279 - accuracy: 0.2667\n",
            "Epoch 15/50\n",
            "1563/1563 [==============================] - 11s 7ms/step - loss: 2.9032 - accuracy: 0.2717\n",
            "Epoch 16/50\n",
            "1563/1563 [==============================] - 12s 8ms/step - loss: 2.8781 - accuracy: 0.2775\n",
            "Epoch 17/50\n",
            "1563/1563 [==============================] - 12s 7ms/step - loss: 2.8524 - accuracy: 0.2833\n",
            "Epoch 18/50\n",
            "1563/1563 [==============================] - 12s 7ms/step - loss: 2.8364 - accuracy: 0.2854\n",
            "Epoch 19/50\n",
            "1563/1563 [==============================] - 12s 7ms/step - loss: 2.8116 - accuracy: 0.2894\n",
            "Epoch 20/50\n",
            "1563/1563 [==============================] - 12s 7ms/step - loss: 2.7852 - accuracy: 0.2945\n",
            "Epoch 21/50\n",
            "1563/1563 [==============================] - 12s 7ms/step - loss: 2.7708 - accuracy: 0.2999\n",
            "Epoch 22/50\n",
            "1563/1563 [==============================] - 12s 7ms/step - loss: 2.7539 - accuracy: 0.3008\n",
            "Epoch 23/50\n",
            "1563/1563 [==============================] - 12s 7ms/step - loss: 2.7379 - accuracy: 0.3042\n",
            "Epoch 24/50\n",
            "1563/1563 [==============================] - 12s 7ms/step - loss: 2.7165 - accuracy: 0.3085\n",
            "Epoch 25/50\n",
            "1563/1563 [==============================] - 12s 7ms/step - loss: 2.6982 - accuracy: 0.3102\n",
            "Epoch 26/50\n",
            "1563/1563 [==============================] - 12s 8ms/step - loss: 2.6825 - accuracy: 0.3123\n",
            "Epoch 27/50\n",
            "1563/1563 [==============================] - 12s 7ms/step - loss: 2.6770 - accuracy: 0.3153\n",
            "Epoch 28/50\n",
            "1563/1563 [==============================] - 12s 7ms/step - loss: 2.6594 - accuracy: 0.3184\n",
            "Epoch 29/50\n",
            "1563/1563 [==============================] - 12s 7ms/step - loss: 2.6463 - accuracy: 0.3215\n",
            "Epoch 30/50\n",
            "1563/1563 [==============================] - 12s 7ms/step - loss: 2.6373 - accuracy: 0.3206\n",
            "Epoch 31/50\n",
            "1563/1563 [==============================] - 12s 7ms/step - loss: 2.6203 - accuracy: 0.3219\n",
            "Epoch 32/50\n",
            "1563/1563 [==============================] - 12s 7ms/step - loss: 2.6127 - accuracy: 0.3254\n",
            "Epoch 33/50\n",
            "1563/1563 [==============================] - 12s 7ms/step - loss: 2.5916 - accuracy: 0.3304\n",
            "Epoch 34/50\n",
            "1563/1563 [==============================] - 12s 8ms/step - loss: 2.5874 - accuracy: 0.3303\n",
            "Epoch 35/50\n",
            "1563/1563 [==============================] - 12s 8ms/step - loss: 2.5669 - accuracy: 0.3345\n",
            "Epoch 36/50\n",
            "1563/1563 [==============================] - 12s 8ms/step - loss: 2.5676 - accuracy: 0.3348\n",
            "Epoch 37/50\n",
            "1563/1563 [==============================] - 12s 8ms/step - loss: 2.5502 - accuracy: 0.3372\n",
            "Epoch 38/50\n",
            "1563/1563 [==============================] - 12s 7ms/step - loss: 2.5338 - accuracy: 0.3408\n",
            "Epoch 39/50\n",
            "1563/1563 [==============================] - 12s 7ms/step - loss: 2.5393 - accuracy: 0.3381\n",
            "Epoch 40/50\n",
            "1563/1563 [==============================] - 12s 7ms/step - loss: 2.5200 - accuracy: 0.3416\n",
            "Epoch 41/50\n",
            "1563/1563 [==============================] - 12s 8ms/step - loss: 2.5110 - accuracy: 0.3432\n",
            "Epoch 42/50\n",
            "1563/1563 [==============================] - 11s 7ms/step - loss: 2.5051 - accuracy: 0.3451\n",
            "Epoch 43/50\n",
            "1563/1563 [==============================] - 12s 8ms/step - loss: 2.4989 - accuracy: 0.3466\n",
            "Epoch 44/50\n",
            "1563/1563 [==============================] - 12s 7ms/step - loss: 2.4833 - accuracy: 0.3475\n",
            "Epoch 45/50\n",
            "1563/1563 [==============================] - 12s 8ms/step - loss: 2.4802 - accuracy: 0.3487\n",
            "Epoch 46/50\n",
            "1563/1563 [==============================] - 12s 8ms/step - loss: 2.4731 - accuracy: 0.3494\n",
            "Epoch 47/50\n",
            "1563/1563 [==============================] - 12s 8ms/step - loss: 2.4735 - accuracy: 0.3505\n",
            "Epoch 48/50\n",
            "1563/1563 [==============================] - 12s 7ms/step - loss: 2.4564 - accuracy: 0.3494\n",
            "Epoch 49/50\n",
            "1563/1563 [==============================] - 12s 7ms/step - loss: 2.4574 - accuracy: 0.3539\n",
            "Epoch 50/50\n",
            "1563/1563 [==============================] - 12s 8ms/step - loss: 2.4406 - accuracy: 0.3564\n",
            "313/313 [==============================] - 2s 5ms/step - loss: 3.2347 - accuracy: 0.2554\n"
          ]
        },
        {
          "output_type": "execute_result",
          "data": {
            "text/plain": [
              "[3.234680652618408, 0.25540000200271606]"
            ]
          },
          "metadata": {},
          "execution_count": 4
        }
      ]
    }
  ]
}