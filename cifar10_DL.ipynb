{
  "nbformat": 4,
  "nbformat_minor": 0,
  "metadata": {
    "colab": {
      "provenance": []
    },
    "kernelspec": {
      "name": "python3",
      "display_name": "Python 3"
    },
    "language_info": {
      "name": "python"
    }
  },
  "cells": [
    {
      "cell_type": "code",
      "execution_count": 1,
      "metadata": {
        "id": "4Fq2IDlCVNCn"
      },
      "outputs": [],
      "source": [
        "import tensorflow as tf"
      ]
    },
    {
      "cell_type": "code",
      "source": [
        "cifar10 = tf.keras.datasets.cifar10\n",
        "\n",
        "(x_train, y_train),(x_test, y_test) = cifar10.load_data()\n",
        "x_train, x_test = x_train / 255.0, x_test / 255.0"
      ],
      "metadata": {
        "colab": {
          "base_uri": "https://localhost:8080/"
        },
        "id": "vWzToodoILNo",
        "outputId": "11303a36-88ac-43d7-f47e-32ec5a4d8167"
      },
      "execution_count": 2,
      "outputs": [
        {
          "output_type": "stream",
          "name": "stdout",
          "text": [
            "Downloading data from https://www.cs.toronto.edu/~kriz/cifar-10-python.tar.gz\n",
            "170498071/170498071 [==============================] - 2s 0us/step\n"
          ]
        }
      ]
    },
    {
      "cell_type": "code",
      "source": [
        "model = tf.keras.models.Sequential([\n",
        "  tf.keras.layers.Conv2D(32, (3, 3), activation='relu', input_shape=(32, 32, 3)),\n",
        "  tf.keras.layers.Conv2D(40, (5, 5), activation='relu'),\n",
        "  tf.keras.layers.Conv2D(25, (3, 3), activation='relu'),\n",
        "  tf.keras.layers.Conv2D(10, (5, 5), activation='relu'),\n",
        "  tf.keras.layers.MaxPooling2D(),\n",
        "  tf.keras.layers.Conv2D(32, (3, 3), activation='relu'),\n",
        "  tf.keras.layers.Conv2D(32, (3, 3), activation='relu'),\n",
        "  tf.keras.layers.MaxPooling2D(),\n",
        "  tf.keras.layers.Flatten(),\n",
        "\n",
        "  tf.keras.layers.Dense(128, activation='relu'),\n",
        "  tf.keras.layers.Dropout(0.2),\n",
        "  tf.keras.layers.Dense(10, activation='softmax')\n",
        "])"
      ],
      "metadata": {
        "id": "9Ike8ybGIYks"
      },
      "execution_count": 3,
      "outputs": []
    },
    {
      "cell_type": "code",
      "source": [
        "model.compile(optimizer='adam',\n",
        "              loss='sparse_categorical_crossentropy',\n",
        "              metrics=['accuracy'])\n",
        "\n",
        "model.fit(x_train, y_train, epochs=5)\n",
        "model.evaluate(x_test, y_test)"
      ],
      "metadata": {
        "colab": {
          "base_uri": "https://localhost:8080/"
        },
        "id": "_G9yl-YpIqT4",
        "outputId": "069188b2-894d-4ebf-d19c-e1a4390ee394"
      },
      "execution_count": 4,
      "outputs": [
        {
          "output_type": "stream",
          "name": "stdout",
          "text": [
            "Epoch 1/5\n",
            "1563/1563 [==============================] - 368s 234ms/step - loss: 1.7896 - accuracy: 0.3410\n",
            "Epoch 2/5\n",
            "1563/1563 [==============================] - 363s 232ms/step - loss: 1.4390 - accuracy: 0.4758\n",
            "Epoch 3/5\n",
            "1563/1563 [==============================] - 361s 231ms/step - loss: 1.2948 - accuracy: 0.5323\n",
            "Epoch 4/5\n",
            "1563/1563 [==============================] - 360s 231ms/step - loss: 1.2008 - accuracy: 0.5690\n",
            "Epoch 5/5\n",
            "1563/1563 [==============================] - 361s 231ms/step - loss: 1.1416 - accuracy: 0.5921\n",
            "313/313 [==============================] - 21s 67ms/step - loss: 1.1220 - accuracy: 0.6020\n"
          ]
        },
        {
          "output_type": "execute_result",
          "data": {
            "text/plain": [
              "[1.122045636177063, 0.6019999980926514]"
            ]
          },
          "metadata": {},
          "execution_count": 4
        }
      ]
    }
  ]
}